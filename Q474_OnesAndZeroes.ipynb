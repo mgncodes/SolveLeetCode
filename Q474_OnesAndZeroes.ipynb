{
 "cells": [
  {
   "cell_type": "code",
   "execution_count": 3,
   "metadata": {},
   "outputs": [],
   "source": [
    "def findMaxForm(strs, m, n):\n",
    "        cntl = []\n",
    "        for i in strs:\n",
    "            cntl.append([i.count('1'), i.count('0')])\n",
    "        dp = []\n",
    "        for i in range(n + 1):\n",
    "            dp.append([0] * (m + 1))\n",
    "        for i in cntl:\n",
    "            for j in range(n, i[0] - 1, -1):\n",
    "                for k in range(m, i[1] - 1, -1):\n",
    "                    dp[j][k] = max(dp[j][k], (dp[j - i[0]][k - i[1]] + 1))\n",
    "        return(dp[n][m])"
   ]
  },
  {
   "cell_type": "code",
   "execution_count": 8,
   "metadata": {},
   "outputs": [
    {
     "name": "stdout",
     "output_type": "stream",
     "text": [
      "10 01 1\n",
      "1\n",
      "1\n",
      "1\n"
     ]
    }
   ],
   "source": [
    "strs = list(map(str, input().split()))\n",
    "m = int(input())\n",
    "n = int(input())\n",
    "print(findMaxForm(strs, m, n))"
   ]
  }
 ],
 "metadata": {
  "kernelspec": {
   "display_name": "Python 3",
   "language": "python",
   "name": "python3"
  },
  "language_info": {
   "codemirror_mode": {
    "name": "ipython",
    "version": 3
   },
   "file_extension": ".py",
   "mimetype": "text/x-python",
   "name": "python",
   "nbconvert_exporter": "python",
   "pygments_lexer": "ipython3",
   "version": "3.8.3"
  }
 },
 "nbformat": 4,
 "nbformat_minor": 4
}
